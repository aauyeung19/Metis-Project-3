{
 "metadata": {
  "language_info": {
   "codemirror_mode": {
    "name": "ipython",
    "version": 3
   },
   "file_extension": ".py",
   "mimetype": "text/x-python",
   "name": "python",
   "nbconvert_exporter": "python",
   "pygments_lexer": "ipython3",
   "version": "3.8.3-final"
  },
  "orig_nbformat": 2,
  "kernelspec": {
   "name": "Python 3.8.3 64-bit ('base': conda)",
   "display_name": "Python 3.8.3 64-bit ('base': conda)",
   "metadata": {
    "interpreter": {
     "hash": "59cb06171805d41928f37d28ce9f3d641f4e2542014011d7a8caa41ef1678543"
    }
   }
  }
 },
 "nbformat": 4,
 "nbformat_minor": 2,
 "cells": [
  {
   "source": [
    "# Scraping Notebook for Weather Data from Wunderground.com\n",
    "Name: Andrew Auyeung\n",
    "Date: 10/13/2020\n",
    "Goal: Pulling daily weather information from Newark Weatherstation"
   ],
   "cell_type": "markdown",
   "metadata": {}
  },
  {
   "cell_type": "code",
   "execution_count": 2,
   "metadata": {},
   "outputs": [],
   "source": [
    "# import libraries\n",
    "from selenium import webdriver\n",
    "from bs4 import BeautifulSoup\n",
    "from selenium.webdriver.common.by import By\n",
    "from selenium.webdriver.support.ui import WebDriverWait\n",
    "from selenium.webdriver.support import expected_conditions as EC\n",
    "\n",
    "import time\n",
    "import requests\n",
    "import pandas as pd\n",
    "import numpy as np\n",
    "import re"
   ]
  },
  {
   "cell_type": "code",
   "execution_count": 5,
   "metadata": {},
   "outputs": [],
   "source": [
    "chrome_options = webdriver.ChromeOptions()\n",
    "chrome_options.add_argument(\"--incognito\")\n",
    "chrome_options.add_argument(\"javascript.enabled\")"
   ]
  },
  {
   "cell_type": "code",
   "execution_count": 3,
   "metadata": {},
   "outputs": [],
   "source": [
    "def pour_soup(month, year):\n",
    "    base_url = \"https://www.wunderground.com/history/monthly/us/nj/newark/KEWR/date/\"\n",
    "    link = year+'-'+month\n",
    "    url = base_url+link\n",
    "    url = str(url)\n",
    "    browser = webdriver.Chrome(executable_path='/Applications/chromedriver')\n",
    "    time.sleep(0.5)\n",
    "    browser.get(url)\n",
    "    time.sleep(10)\n",
    "    browser.execute_script(\"window.scrollTo(0, document.body.scrollHeight/2);\")\n",
    "    time.sleep(2)\n",
    "    soup = BeautifulSoup(browser.page_source)\n",
    "    browser.quit()\n",
    "    return soup"
   ]
  },
  {
   "cell_type": "code",
   "execution_count": 4,
   "metadata": {},
   "outputs": [],
   "source": [
    "def get_weather_df(soup):\n",
    "    \"\"\"\n",
    "    Pulls Data from wunderground soup\n",
    "    \"\"\"\n",
    "    # Find table of table elements\n",
    "    table = soup.find_all('table', class_=\"days ng-star-inserted\")[0].find_all('table')\n",
    "    curr_month = []\n",
    "    # table columns are different tables\n",
    "    # Function starts at a specific row\n",
    "    # Then pulls the data from the same row from each table\n",
    "    for row_num in range(1,len(table[0].find_all('tr'))):\n",
    "        curr_dict = {}\n",
    "        for i, labels in enumerate(headers):\n",
    "            rows = table[i].find_all('tr')\n",
    "            if i:\n",
    "                curr_dict.update(dict(zip(labels, map(float, rows[row_num].text.split()))))\n",
    "            else:\n",
    "                curr_dict.update(dict(zip(labels, rows[row_num].text.split())))\n",
    "        curr_month.append(curr_dict)\n",
    "\n",
    "    curr_month = pd.DataFrame(curr_month)\n",
    "    return curr_month\n",
    "\n"
   ]
  },
  {
   "cell_type": "code",
   "execution_count": 61,
   "metadata": {},
   "outputs": [
    {
     "output_type": "stream",
     "name": "stdout",
     "text": [
      "Last Month Scrapped: 1\nNumber of Rows: 4383\n"
     ]
    }
   ],
   "source": [
    "################################## Insert Year you are interested in!\n",
    "# pull from one webpage\n",
    "year = \n",
    "\n",
    "headers = [['date'], ['temp_max', 'temp_avg', 'temp_min'], ['dp_max', 'dp_avg', 'dp_min'], ['humid_max', 'humid_avg', 'humid_min'], ['ws_max', 'ws_avg', 'ws_min'], ['press_max', 'press_avg', 'press_min'], ['precip']] \n",
    "wdf = pd.DataFrame()\n",
    "for month in range(12,0,-1):\n",
    "    month = str(month)\n",
    "    try:\n",
    "        soup = pour_soup(month, year)\n",
    "    except:\n",
    "        soup = pour_soup(month, year) # try pour soup again in case page doesn't load the first time\n",
    "    curr_month_df = get_weather_df(soup)\n",
    "    curr_month_df.date = month + '-' + curr_month_df.date + '-' + year # turns date column to month day year string\n",
    "    wdf = wdf.append(curr_month_df, ignore_index=True)\n",
    "    print('Last Month Scrapped:', month)\n",
    "    print('Number of Rows:',len(wdf))"
   ]
  },
  {
   "cell_type": "code",
   "execution_count": 1,
   "metadata": {},
   "outputs": [
    {
     "output_type": "error",
     "ename": "NameError",
     "evalue": "name 'pd' is not defined",
     "traceback": [
      "\u001b[0;31m---------------------------------------------------------------------------\u001b[0m",
      "\u001b[0;31mNameError\u001b[0m                                 Traceback (most recent call last)",
      "\u001b[0;32m<ipython-input-1-c918fbdc60c5>\u001b[0m in \u001b[0;36m<module>\u001b[0;34m\u001b[0m\n\u001b[0;32m----> 1\u001b[0;31m \u001b[0mwdf\u001b[0m \u001b[0;34m=\u001b[0m \u001b[0mpd\u001b[0m\u001b[0;34m.\u001b[0m\u001b[0mread_pickle\u001b[0m\u001b[0;34m(\u001b[0m\u001b[0;34m'src/EWRweather.pickle'\u001b[0m\u001b[0;34m)\u001b[0m\u001b[0;34m\u001b[0m\u001b[0;34m\u001b[0m\u001b[0m\n\u001b[0m",
      "\u001b[0;31mNameError\u001b[0m: name 'pd' is not defined"
     ]
    }
   ],
   "source": [
    "wdf = pd.read_pickle('src/EWRweather.pickle')"
   ]
  },
  {
   "cell_type": "code",
   "execution_count": 58,
   "metadata": {},
   "outputs": [
    {
     "output_type": "execute_result",
     "data": {
      "text/plain": [
       "11.41388888888889"
      ]
     },
     "metadata": {},
     "execution_count": 58
    }
   ],
   "source": [
    "len(wdf)/30/12"
   ]
  },
  {
   "cell_type": "code",
   "execution_count": 176,
   "metadata": {},
   "outputs": [],
   "source": [
    "headers = [['date'], ['temp_max', 'temp_avg', 'temp_min'], ['dp_max', 'dp_avg', 'dp_min'], ['humid_max', 'humid_avg', 'humid_min'], ['ws_max', 'ws_avg', 'ws_min'], ['press_max', 'press_avg', 'press_min'], ['precip']] "
   ]
  },
  {
   "cell_type": "code",
   "execution_count": 10,
   "metadata": {},
   "outputs": [],
   "source": [
    "# Table 3 is the Dates\n",
    "# 4 - Temperature (F)\n",
    "# 5 - DewPoint (F)\n",
    "# 6 - Humidity (%)\n",
    "# 7 - Wind Speed (mph)\n",
    "# 8 - Pressure (Hg)\n",
    "# 9 - Precipitation (in)\n"
   ]
  },
  {
   "cell_type": "code",
   "execution_count": 8,
   "metadata": {},
   "outputs": [],
   "source": [
    "url = 'https://www.wunderground.com/history/monthly/us/nj/newark/KEWR/date/2020-5'"
   ]
  },
  {
   "cell_type": "code",
   "execution_count": null,
   "metadata": {},
   "outputs": [],
   "source": []
  }
 ]
}